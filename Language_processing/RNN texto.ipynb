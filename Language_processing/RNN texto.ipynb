{
 "cells": [
  {
   "cell_type": "code",
   "execution_count": 16,
   "id": "c72ca6dd",
   "metadata": {},
   "outputs": [],
   "source": [
    "import pandas as pd\n",
    "import torch\n",
    "import torch.nn as nn\n",
    "import torch.optim as optim\n",
    "from torch.utils.data import Dataset, DataLoader\n",
    "from sklearn.model_selection import train_test_split\n",
    "from sklearn.preprocessing import LabelEncoder\n",
    "import nltk\n",
    "from nltk.tokenize import word_tokenize\n",
    "from nltk.corpus import stopwords\n",
    "from nltk.tokenize import RegexpTokenizer\n",
    "import numpy as np"
   ]
  },
  {
   "cell_type": "code",
   "execution_count": 112,
   "id": "032a248f",
   "metadata": {
    "scrolled": true
   },
   "outputs": [],
   "source": [
    "df = pd.read_csv('reviews (1).csv')"
   ]
  },
  {
   "cell_type": "code",
   "execution_count": 113,
   "id": "ed744f37",
   "metadata": {},
   "outputs": [],
   "source": [
    "df= df[df.columns[2:]]"
   ]
  },
  {
   "cell_type": "code",
   "execution_count": 114,
   "id": "12c2c26d",
   "metadata": {},
   "outputs": [
    {
     "data": {
      "text/html": [
       "<div>\n",
       "<style scoped>\n",
       "    .dataframe tbody tr th:only-of-type {\n",
       "        vertical-align: middle;\n",
       "    }\n",
       "\n",
       "    .dataframe tbody tr th {\n",
       "        vertical-align: top;\n",
       "    }\n",
       "\n",
       "    .dataframe thead th {\n",
       "        text-align: right;\n",
       "    }\n",
       "</style>\n",
       "<table border=\"1\" class=\"dataframe\">\n",
       "  <thead>\n",
       "    <tr style=\"text-align: right;\">\n",
       "      <th></th>\n",
       "      <th>Age</th>\n",
       "      <th>Review Text</th>\n",
       "      <th>Rating</th>\n",
       "      <th>Recommended IND</th>\n",
       "      <th>Positive Feedback Count</th>\n",
       "      <th>Division Name</th>\n",
       "      <th>Department Name</th>\n",
       "      <th>Class Name</th>\n",
       "    </tr>\n",
       "  </thead>\n",
       "  <tbody>\n",
       "    <tr>\n",
       "      <th>0</th>\n",
       "      <td>33</td>\n",
       "      <td>Absolutely wonderful - silky and sexy and comf...</td>\n",
       "      <td>4</td>\n",
       "      <td>1</td>\n",
       "      <td>0</td>\n",
       "      <td>Initmates</td>\n",
       "      <td>Intimate</td>\n",
       "      <td>Intimates</td>\n",
       "    </tr>\n",
       "    <tr>\n",
       "      <th>1</th>\n",
       "      <td>34</td>\n",
       "      <td>Love this dress!  it's sooo pretty.  i happene...</td>\n",
       "      <td>5</td>\n",
       "      <td>1</td>\n",
       "      <td>4</td>\n",
       "      <td>General</td>\n",
       "      <td>Dresses</td>\n",
       "      <td>Dresses</td>\n",
       "    </tr>\n",
       "    <tr>\n",
       "      <th>2</th>\n",
       "      <td>60</td>\n",
       "      <td>I had such high hopes for this dress and reall...</td>\n",
       "      <td>3</td>\n",
       "      <td>0</td>\n",
       "      <td>0</td>\n",
       "      <td>General</td>\n",
       "      <td>Dresses</td>\n",
       "      <td>Dresses</td>\n",
       "    </tr>\n",
       "    <tr>\n",
       "      <th>3</th>\n",
       "      <td>50</td>\n",
       "      <td>I love, love, love this jumpsuit. it's fun, fl...</td>\n",
       "      <td>5</td>\n",
       "      <td>1</td>\n",
       "      <td>0</td>\n",
       "      <td>General Petite</td>\n",
       "      <td>Bottoms</td>\n",
       "      <td>Pants</td>\n",
       "    </tr>\n",
       "    <tr>\n",
       "      <th>4</th>\n",
       "      <td>47</td>\n",
       "      <td>This shirt is very flattering to all due to th...</td>\n",
       "      <td>5</td>\n",
       "      <td>1</td>\n",
       "      <td>6</td>\n",
       "      <td>General</td>\n",
       "      <td>Tops</td>\n",
       "      <td>Blouses</td>\n",
       "    </tr>\n",
       "    <tr>\n",
       "      <th>...</th>\n",
       "      <td>...</td>\n",
       "      <td>...</td>\n",
       "      <td>...</td>\n",
       "      <td>...</td>\n",
       "      <td>...</td>\n",
       "      <td>...</td>\n",
       "      <td>...</td>\n",
       "      <td>...</td>\n",
       "    </tr>\n",
       "    <tr>\n",
       "      <th>23481</th>\n",
       "      <td>34</td>\n",
       "      <td>I was very happy to snag this dress at such a ...</td>\n",
       "      <td>5</td>\n",
       "      <td>1</td>\n",
       "      <td>0</td>\n",
       "      <td>General Petite</td>\n",
       "      <td>Dresses</td>\n",
       "      <td>Dresses</td>\n",
       "    </tr>\n",
       "    <tr>\n",
       "      <th>23482</th>\n",
       "      <td>48</td>\n",
       "      <td>It reminds me of maternity clothes. soft, stre...</td>\n",
       "      <td>3</td>\n",
       "      <td>1</td>\n",
       "      <td>0</td>\n",
       "      <td>General Petite</td>\n",
       "      <td>Tops</td>\n",
       "      <td>Knits</td>\n",
       "    </tr>\n",
       "    <tr>\n",
       "      <th>23483</th>\n",
       "      <td>31</td>\n",
       "      <td>This fit well, but the top was very see throug...</td>\n",
       "      <td>3</td>\n",
       "      <td>0</td>\n",
       "      <td>1</td>\n",
       "      <td>General Petite</td>\n",
       "      <td>Dresses</td>\n",
       "      <td>Dresses</td>\n",
       "    </tr>\n",
       "    <tr>\n",
       "      <th>23484</th>\n",
       "      <td>28</td>\n",
       "      <td>I bought this dress for a wedding i have this ...</td>\n",
       "      <td>3</td>\n",
       "      <td>1</td>\n",
       "      <td>2</td>\n",
       "      <td>General</td>\n",
       "      <td>Dresses</td>\n",
       "      <td>Dresses</td>\n",
       "    </tr>\n",
       "    <tr>\n",
       "      <th>23485</th>\n",
       "      <td>52</td>\n",
       "      <td>This dress in a lovely platinum is feminine an...</td>\n",
       "      <td>5</td>\n",
       "      <td>1</td>\n",
       "      <td>22</td>\n",
       "      <td>General Petite</td>\n",
       "      <td>Dresses</td>\n",
       "      <td>Dresses</td>\n",
       "    </tr>\n",
       "  </tbody>\n",
       "</table>\n",
       "<p>23486 rows × 8 columns</p>\n",
       "</div>"
      ],
      "text/plain": [
       "       Age                                        Review Text  Rating  \\\n",
       "0       33  Absolutely wonderful - silky and sexy and comf...       4   \n",
       "1       34  Love this dress!  it's sooo pretty.  i happene...       5   \n",
       "2       60  I had such high hopes for this dress and reall...       3   \n",
       "3       50  I love, love, love this jumpsuit. it's fun, fl...       5   \n",
       "4       47  This shirt is very flattering to all due to th...       5   \n",
       "...    ...                                                ...     ...   \n",
       "23481   34  I was very happy to snag this dress at such a ...       5   \n",
       "23482   48  It reminds me of maternity clothes. soft, stre...       3   \n",
       "23483   31  This fit well, but the top was very see throug...       3   \n",
       "23484   28  I bought this dress for a wedding i have this ...       3   \n",
       "23485   52  This dress in a lovely platinum is feminine an...       5   \n",
       "\n",
       "       Recommended IND  Positive Feedback Count   Division Name  \\\n",
       "0                    1                        0       Initmates   \n",
       "1                    1                        4         General   \n",
       "2                    0                        0         General   \n",
       "3                    1                        0  General Petite   \n",
       "4                    1                        6         General   \n",
       "...                ...                      ...             ...   \n",
       "23481                1                        0  General Petite   \n",
       "23482                1                        0  General Petite   \n",
       "23483                0                        1  General Petite   \n",
       "23484                1                        2         General   \n",
       "23485                1                       22  General Petite   \n",
       "\n",
       "      Department Name Class Name  \n",
       "0            Intimate  Intimates  \n",
       "1             Dresses    Dresses  \n",
       "2             Dresses    Dresses  \n",
       "3             Bottoms      Pants  \n",
       "4                Tops    Blouses  \n",
       "...               ...        ...  \n",
       "23481         Dresses    Dresses  \n",
       "23482            Tops      Knits  \n",
       "23483         Dresses    Dresses  \n",
       "23484         Dresses    Dresses  \n",
       "23485         Dresses    Dresses  \n",
       "\n",
       "[23486 rows x 8 columns]"
      ]
     },
     "execution_count": 114,
     "metadata": {},
     "output_type": "execute_result"
    }
   ],
   "source": [
    "df.loc[:, df.columns != 'Title']"
   ]
  },
  {
   "cell_type": "code",
   "execution_count": 115,
   "id": "bf05f10b",
   "metadata": {
    "scrolled": true
   },
   "outputs": [],
   "source": [
    "df.dropna(inplace=True)"
   ]
  },
  {
   "cell_type": "code",
   "execution_count": 116,
   "id": "10fafc22",
   "metadata": {},
   "outputs": [
    {
     "data": {
      "text/plain": [
       "19662"
      ]
     },
     "execution_count": 116,
     "metadata": {},
     "output_type": "execute_result"
    }
   ],
   "source": [
    "len(df)"
   ]
  },
  {
   "cell_type": "code",
   "execution_count": 117,
   "id": "621a4e1a",
   "metadata": {},
   "outputs": [
    {
     "name": "stderr",
     "output_type": "stream",
     "text": [
      "[nltk_data] Downloading package punkt to\n",
      "[nltk_data]     C:\\Users\\diefa\\AppData\\Roaming\\nltk_data...\n",
      "[nltk_data]   Package punkt is already up-to-date!\n",
      "[nltk_data] Downloading package stopwords to\n",
      "[nltk_data]     C:\\Users\\diefa\\AppData\\Roaming\\nltk_data...\n",
      "[nltk_data]   Package stopwords is already up-to-date!\n"
     ]
    }
   ],
   "source": [
    "import re\n",
    "import string\n",
    "\n",
    "def to_lowercase(tweet):\n",
    "  tweet = tweet.lower()\n",
    "  return tweet\n",
    "\n",
    "def word_repetition(tweet):\n",
    "  tweet = re.sub(r'(.)\\1+', r'\\1\\1', tweet)\n",
    "  return tweet\n",
    "\n",
    "def punct_repetition(tweet, default_replace=\"\"):\n",
    "  tweet = re.sub(r'[\\?\\.\\!]+(?=[\\?\\.\\!])', default_replace, tweet)\n",
    "  return tweet\n",
    "\n",
    "import contractions\n",
    "def fix_contractions(tweet):\n",
    "  tweet = contractions.fix(tweet)\n",
    "  return tweet\n",
    "\n",
    "import nltk\n",
    "from nltk.tokenize import word_tokenize\n",
    "nltk.download('punkt')\n",
    "\n",
    "def tokenize(tweet):\n",
    "  tokens = word_tokenize(tweet)\n",
    "  return tokens\n",
    "\n",
    "from nltk.corpus import stopwords\n",
    "nltk.download('stopwords')\n",
    "\n",
    "\n",
    "\n",
    "def custom_tokenize(line,\n",
    "                    keep_punct = False,\n",
    "                    keep_alnum = False,\n",
    "                    keep_stop = False):\n",
    "  \n",
    "  token_list = word_tokenize(line)\n",
    "\n",
    "  if not keep_punct:\n",
    "    token_list = [token for token in token_list\n",
    "                  if token not in string.punctuation]\n",
    "\n",
    "  if not keep_alnum:\n",
    "    token_list = [token for token in token_list if token.isalpha()]\n",
    "  \n",
    "  if not keep_stop:\n",
    "    stop_words = nltk.corpus.stopwords.words('english')\n",
    "    token_list = [token for token in token_list if not token in stop_words]\n",
    "\n",
    "  return token_list\n"
   ]
  },
  {
   "cell_type": "code",
   "execution_count": 118,
   "id": "2480b5bb",
   "metadata": {},
   "outputs": [],
   "source": [
    "def process(line):\n",
    "    if type(line)!=float:\n",
    "        ## Word Features\n",
    "        line = to_lowercase(line) # lower case\n",
    "        line = fix_contractions(line) # replace contractions\n",
    "        line = punct_repetition(line) # replace punctuation repetition\n",
    "        line = word_repetition(line) # replace word repetition\n",
    "        ## Tokenization & Stemming\n",
    "        tokens = custom_tokenize(line, keep_alnum=False, keep_stop=False)\n",
    "    \n",
    "    return tokens"
   ]
  },
  {
   "cell_type": "code",
   "execution_count": 164,
   "id": "d80faa2d",
   "metadata": {},
   "outputs": [],
   "source": [
    "\n",
    "# Paso 3: Dividir los datos en conjuntos de entrenamiento, validación y prueba\n",
    "train_data, test_data = train_test_split(df, test_size=0.2, random_state=2)\n",
    "train_data, val_data = train_test_split(train_data, test_size=0.1, random_state=2)"
   ]
  },
  {
   "cell_type": "code",
   "execution_count": 166,
   "id": "2a78c1f1",
   "metadata": {},
   "outputs": [],
   "source": [
    "clean_train = []\n",
    "\n",
    "for i in train_data['Review Text']:\n",
    "    clean_train.append(process(i))\n",
    "\n",
    "clean_val = []\n",
    "for i in val_data['Review Text']:\n",
    "    clean_val.append(process(i))\n",
    "\n",
    "clean_test = []\n",
    "for i in test_data['Review Text']:\n",
    "    clean_test.append(process(i))"
   ]
  },
  {
   "cell_type": "code",
   "execution_count": 167,
   "id": "84364816",
   "metadata": {},
   "outputs": [],
   "source": [
    "w = []\n",
    "for t in clean_train:\n",
    "    w.extend(t)"
   ]
  },
  {
   "cell_type": "code",
   "execution_count": 370,
   "id": "bb0e6c2a",
   "metadata": {},
   "outputs": [],
   "source": [
    "# Crear un conjunto de vocabulario único\n",
    "vocab = set(w)\n",
    "vocab.add('<UNK>')\n",
    "# Crear un diccionario de vocabulario con índices asignados a cada palabra\n",
    "word_to_idx = {word: idx + 1 for idx, word in enumerate(vocab)}\n",
    "word_to_idx['<UNK>'] = 0\n"
   ]
  },
  {
   "cell_type": "code",
   "execution_count": 170,
   "id": "312f6f69",
   "metadata": {},
   "outputs": [
    {
     "data": {
      "text/plain": [
       "10971"
      ]
     },
     "execution_count": 170,
     "metadata": {},
     "output_type": "execute_result"
    }
   ],
   "source": [
    "len(word_to_idx)"
   ]
  },
  {
   "cell_type": "code",
   "execution_count": 371,
   "id": "3a2d7edf",
   "metadata": {},
   "outputs": [],
   "source": [
    "# Función para convertir palabras en números según el diccionario\n",
    "def convertir_a_numeros(sublista, diccionario):\n",
    "    return [diccionario.get(palabra,diccionario['<UNK>']) for palabra in sublista]\n",
    "\n",
    "# Convertir cada sublista\n",
    "sequence_train = [convertir_a_numeros(sublista, word_to_idx) for sublista in clean_train]\n",
    "sequence_val = [convertir_a_numeros(sublista, word_to_idx) for sublista in clean_val]\n",
    "sequence_test = [convertir_a_numeros(sublista, word_to_idx) for sublista in clean_test]\n"
   ]
  },
  {
   "cell_type": "code",
   "execution_count": 372,
   "id": "391b6a4a",
   "metadata": {},
   "outputs": [
    {
     "data": {
      "text/plain": [
       "57"
      ]
     },
     "execution_count": 372,
     "metadata": {},
     "output_type": "execute_result"
    }
   ],
   "source": [
    "maximo = 0\n",
    "for i in sequence_train:\n",
    "    if len(i) > maximo:\n",
    "        maximo = len(i)\n",
    "maximo\n",
    "\n",
    "    "
   ]
  },
  {
   "cell_type": "code",
   "execution_count": 373,
   "id": "2c549073",
   "metadata": {},
   "outputs": [],
   "source": [
    "# Función para ajustar la longitud de las sublistas\n",
    "def ajustar_longitud(sublista, longitud_deseada):\n",
    "    if len(sublista) < longitud_deseada:\n",
    "        return [0] * (longitud_deseada - len(sublista)) + sublista\n",
    "    else:\n",
    "        return sublista[:longitud_deseada]\n",
    "\n",
    "# Ajustar la longitud de todas las sublistas\n",
    "sequence_adj_train = [ajustar_longitud(sublista, 57) for sublista in sequence_train]\n",
    "sequence_adj_val = [ajustar_longitud(sublista, 57) for sublista in sequence_val]\n",
    "sequence_adj_test = [ajustar_longitud(sublista, 57) for sublista in sequence_test]"
   ]
  },
  {
   "cell_type": "code",
   "execution_count": 175,
   "id": "383c3014",
   "metadata": {},
   "outputs": [],
   "source": [
    "# Creamos una instancia de LabelEncoder\n",
    "label_encoder = LabelEncoder()"
   ]
  },
  {
   "cell_type": "code",
   "execution_count": 176,
   "id": "9d3b9d10",
   "metadata": {
    "scrolled": true
   },
   "outputs": [],
   "source": [
    "train_data['Division Name'] = label_encoder.fit_transform(train_data['Division Name'])\n",
    "val_data['Division Name'] = label_encoder.transform(val_data['Division Name'])\n",
    "test_data['Division Name'] = label_encoder.transform(test_data['Division Name'])\n"
   ]
  },
  {
   "cell_type": "code",
   "execution_count": 177,
   "id": "bfc96e2d",
   "metadata": {},
   "outputs": [],
   "source": [
    "train_data['Department Name'] = label_encoder.fit_transform(train_data['Department Name'])\n",
    "val_data['Department Name'] = label_encoder.transform(val_data['Department Name'])\n",
    "test_data['Department Name'] = label_encoder.transform(test_data['Department Name'])\n"
   ]
  },
  {
   "cell_type": "code",
   "execution_count": 178,
   "id": "d6ff492c",
   "metadata": {},
   "outputs": [],
   "source": [
    "train_data['Class Name'] = label_encoder.fit_transform(train_data['Class Name'])\n",
    "val_data['Class Name'] = label_encoder.transform(val_data['Class Name'])\n",
    "test_data['Class Name'] = label_encoder.transform(test_data['Class Name'])\n"
   ]
  },
  {
   "cell_type": "code",
   "execution_count": 374,
   "id": "c46c9fe0",
   "metadata": {},
   "outputs": [],
   "source": [
    "train_data['Sequence'] = sequence_adj_train\n",
    "val_data['Sequence'] = sequence_adj_val\n",
    "test_data['Sequence'] = sequence_adj_test"
   ]
  },
  {
   "cell_type": "code",
   "execution_count": 355,
   "id": "7a4429a9",
   "metadata": {},
   "outputs": [],
   "source": [
    "class CustomDataset(Dataset):\n",
    "    def __init__(self, texts, ages, recomends, positives, divisions, departments, class_ns, targets):\n",
    "        self.texts = texts\n",
    "        self.age = ages\n",
    "        self.recomend = recomends\n",
    "        self.positive = positives\n",
    "        self.division = divisions\n",
    "        self.department = departments\n",
    "        self.class_n = class_ns\n",
    "        self.targets = np.array(targets) - 1\n",
    "\n",
    "    def __len__(self):\n",
    "        return len(self.targets)\n",
    "\n",
    "    def __getitem__(self, idx):\n",
    "        text = self.texts[idx]\n",
    "\n",
    "        numeric = torch.from_numpy(np.array([self.age[idx], self.recomend[idx], self.positive[idx], self.division[idx],\n",
    "                                           self.department[idx], self.class_n[idx]]))\n",
    "        target = torch.tensor(self.targets[idx], dtype=torch.long)\n",
    "        return torch.from_numpy(np.array(text)), numeric, target"
   ]
  },
  {
   "cell_type": "code",
   "execution_count": 185,
   "id": "95e8d595",
   "metadata": {},
   "outputs": [
    {
     "data": {
      "text/plain": [
       "Index(['Age', 'Title', 'Review Text', 'Rating', 'Recommended IND',\n",
       "       'Positive Feedback Count', 'Division Name', 'Department Name',\n",
       "       'Class Name', 'Sequence'],\n",
       "      dtype='object')"
      ]
     },
     "execution_count": 185,
     "metadata": {},
     "output_type": "execute_result"
    }
   ],
   "source": [
    "train_data.columns"
   ]
  },
  {
   "cell_type": "code",
   "execution_count": 197,
   "id": "fbaf3974",
   "metadata": {},
   "outputs": [
    {
     "data": {
      "text/html": [
       "<div>\n",
       "<style scoped>\n",
       "    .dataframe tbody tr th:only-of-type {\n",
       "        vertical-align: middle;\n",
       "    }\n",
       "\n",
       "    .dataframe tbody tr th {\n",
       "        vertical-align: top;\n",
       "    }\n",
       "\n",
       "    .dataframe thead th {\n",
       "        text-align: right;\n",
       "    }\n",
       "</style>\n",
       "<table border=\"1\" class=\"dataframe\">\n",
       "  <thead>\n",
       "    <tr style=\"text-align: right;\">\n",
       "      <th></th>\n",
       "      <th>Age</th>\n",
       "      <th>Title</th>\n",
       "      <th>Review Text</th>\n",
       "      <th>Rating</th>\n",
       "      <th>Recommended IND</th>\n",
       "      <th>Positive Feedback Count</th>\n",
       "      <th>Division Name</th>\n",
       "      <th>Department Name</th>\n",
       "      <th>Class Name</th>\n",
       "      <th>Sequence</th>\n",
       "    </tr>\n",
       "  </thead>\n",
       "  <tbody>\n",
       "    <tr>\n",
       "      <th>0</th>\n",
       "      <td>25</td>\n",
       "      <td>Runs big</td>\n",
       "      <td>This dress looks so cute in the pictures-i lov...</td>\n",
       "      <td>2</td>\n",
       "      <td>0</td>\n",
       "      <td>0</td>\n",
       "      <td>0</td>\n",
       "      <td>1</td>\n",
       "      <td>3</td>\n",
       "      <td>[0, 0, 0, 0, 0, 0, 0, 0, 0, 0, 0, 0, 0, 0, 0, ...</td>\n",
       "    </tr>\n",
       "    <tr>\n",
       "      <th>1</th>\n",
       "      <td>42</td>\n",
       "      <td>Nice dress for work or a date</td>\n",
       "      <td>Bought this dress based on the other reviews a...</td>\n",
       "      <td>5</td>\n",
       "      <td>1</td>\n",
       "      <td>0</td>\n",
       "      <td>1</td>\n",
       "      <td>1</td>\n",
       "      <td>3</td>\n",
       "      <td>[0, 0, 0, 0, 0, 0, 0, 0, 0, 0, 0, 0, 0, 0, 0, ...</td>\n",
       "    </tr>\n",
       "    <tr>\n",
       "      <th>2</th>\n",
       "      <td>37</td>\n",
       "      <td>So comfortable</td>\n",
       "      <td>I love the style of this dress, comfortable bu...</td>\n",
       "      <td>5</td>\n",
       "      <td>1</td>\n",
       "      <td>0</td>\n",
       "      <td>1</td>\n",
       "      <td>1</td>\n",
       "      <td>3</td>\n",
       "      <td>[0, 0, 0, 0, 0, 0, 0, 0, 0, 0, 0, 0, 0, 0, 0, ...</td>\n",
       "    </tr>\n",
       "    <tr>\n",
       "      <th>3</th>\n",
       "      <td>28</td>\n",
       "      <td>Shrinks, shrinks, shrinks</td>\n",
       "      <td>I purchased this top in the rose and steel blu...</td>\n",
       "      <td>1</td>\n",
       "      <td>0</td>\n",
       "      <td>1</td>\n",
       "      <td>0</td>\n",
       "      <td>4</td>\n",
       "      <td>8</td>\n",
       "      <td>[0, 0, 0, 0, 0, 0, 0, 8782, 1742, 7638, 3197, ...</td>\n",
       "    </tr>\n",
       "    <tr>\n",
       "      <th>4</th>\n",
       "      <td>54</td>\n",
       "      <td>Gorgeous but not for me</td>\n",
       "      <td>I was so excited about this dress. but when i ...</td>\n",
       "      <td>4</td>\n",
       "      <td>1</td>\n",
       "      <td>0</td>\n",
       "      <td>0</td>\n",
       "      <td>1</td>\n",
       "      <td>3</td>\n",
       "      <td>[0, 0, 0, 0, 0, 0, 0, 0, 0, 0, 0, 0, 0, 0, 0, ...</td>\n",
       "    </tr>\n",
       "  </tbody>\n",
       "</table>\n",
       "</div>"
      ],
      "text/plain": [
       "   Age                          Title  \\\n",
       "0   25                       Runs big   \n",
       "1   42  Nice dress for work or a date   \n",
       "2   37                 So comfortable   \n",
       "3   28      Shrinks, shrinks, shrinks   \n",
       "4   54        Gorgeous but not for me   \n",
       "\n",
       "                                         Review Text  Rating  Recommended IND  \\\n",
       "0  This dress looks so cute in the pictures-i lov...       2                0   \n",
       "1  Bought this dress based on the other reviews a...       5                1   \n",
       "2  I love the style of this dress, comfortable bu...       5                1   \n",
       "3  I purchased this top in the rose and steel blu...       1                0   \n",
       "4  I was so excited about this dress. but when i ...       4                1   \n",
       "\n",
       "   Positive Feedback Count  Division Name  Department Name  Class Name  \\\n",
       "0                        0              0                1           3   \n",
       "1                        0              1                1           3   \n",
       "2                        0              1                1           3   \n",
       "3                        1              0                4           8   \n",
       "4                        0              0                1           3   \n",
       "\n",
       "                                            Sequence  \n",
       "0  [0, 0, 0, 0, 0, 0, 0, 0, 0, 0, 0, 0, 0, 0, 0, ...  \n",
       "1  [0, 0, 0, 0, 0, 0, 0, 0, 0, 0, 0, 0, 0, 0, 0, ...  \n",
       "2  [0, 0, 0, 0, 0, 0, 0, 0, 0, 0, 0, 0, 0, 0, 0, ...  \n",
       "3  [0, 0, 0, 0, 0, 0, 0, 8782, 1742, 7638, 3197, ...  \n",
       "4  [0, 0, 0, 0, 0, 0, 0, 0, 0, 0, 0, 0, 0, 0, 0, ...  "
      ]
     },
     "execution_count": 197,
     "metadata": {},
     "output_type": "execute_result"
    }
   ],
   "source": [
    "train_data.reset_index(drop=True, inplace=True)\n",
    "train_data.head()"
   ]
  },
  {
   "cell_type": "code",
   "execution_count": 375,
   "id": "11967b0c",
   "metadata": {},
   "outputs": [],
   "source": [
    "Train_Dataset = CustomDataset(train_data['Sequence'].to_list(), train_data['Age'].to_list(), \n",
    "                              train_data['Recommended IND'].to_list(), \n",
    "                              train_data['Positive Feedback Count'].to_list(),\n",
    "                              train_data['Division Name'].to_list(),\n",
    "                              train_data['Department Name'].to_list(),\n",
    "                              train_data['Class Name'].to_list(),\n",
    "                              train_data[ 'Rating'].to_list())"
   ]
  },
  {
   "cell_type": "code",
   "execution_count": 376,
   "id": "9aa725cc",
   "metadata": {},
   "outputs": [],
   "source": [
    "Val_Dataset = CustomDataset(val_data['Sequence'].to_list(), val_data['Age'].to_list(), \n",
    "                              val_data['Recommended IND'].to_list(), \n",
    "                              val_data['Positive Feedback Count'].to_list(),\n",
    "                              val_data['Division Name'].to_list(),\n",
    "                              val_data['Department Name'].to_list(),\n",
    "                              val_data['Class Name'].to_list(),\n",
    "                              val_data[ 'Rating'].to_list())"
   ]
  },
  {
   "cell_type": "code",
   "execution_count": 377,
   "id": "3261b76b",
   "metadata": {},
   "outputs": [],
   "source": [
    "Test_Dataset = CustomDataset(test_data['Sequence'].to_list(), test_data['Age'].to_list(), \n",
    "                              test_data['Recommended IND'].to_list(), \n",
    "                              test_data['Positive Feedback Count'].to_list(),\n",
    "                              test_data['Division Name'].to_list(),\n",
    "                              test_data['Department Name'].to_list(),\n",
    "                              test_data['Class Name'].to_list(),\n",
    "                              test_data[ 'Rating'].to_list())"
   ]
  },
  {
   "cell_type": "code",
   "execution_count": 378,
   "id": "1aad4050",
   "metadata": {},
   "outputs": [
    {
     "data": {
      "text/plain": [
       "(tensor([   0,    0,    0,    0,    0,    0,    0,    0,    0,    0,    0,    0,\n",
       "            0,    0,    0,    0,    0,    0,    0,    0,    0,    0,    0,    0,\n",
       "            0,    0,    0,    0,    0,    0,    0,    0,    0,    0,    0,    0,\n",
       "            0,    0,    0,    0,    0,    0,    0,    0, 7128,  831, 6481, 5134,\n",
       "         2088, 9251, 7755, 4295, 8324, 2505, 4668, 4285, 7755],\n",
       "        dtype=torch.int32),\n",
       " tensor([39,  1,  1,  0,  4,  4], dtype=torch.int32),\n",
       " tensor(3))"
      ]
     },
     "execution_count": 378,
     "metadata": {},
     "output_type": "execute_result"
    }
   ],
   "source": [
    "next(iter(Val_Dataset))"
   ]
  },
  {
   "cell_type": "code",
   "execution_count": 379,
   "id": "35ed6975",
   "metadata": {},
   "outputs": [],
   "source": [
    "train_loader = DataLoader(Train_Dataset, batch_size=64, shuffle=False)\n",
    "val_loader = DataLoader(Val_Dataset, batch_size=64, shuffle=False)\n",
    "test_loader = DataLoader(Test_Dataset,batch_size=64, shuffle=False)"
   ]
  },
  {
   "cell_type": "code",
   "execution_count": 380,
   "id": "901b88c9",
   "metadata": {},
   "outputs": [],
   "source": [
    "class RNNModel(nn.Module):\n",
    "    def __init__(self, input_size, embedding_dim, hidden_size, num_layers, num_numeric_features):\n",
    "        super(RNNModel, self).__init__()\n",
    "        self.relu = nn.ReLU()\n",
    "        self.embedding = nn.Embedding(input_size, embedding_dim)\n",
    "        self.rnn = nn.LSTM(embedding_dim, hidden_size, num_layers, batch_first=True)\n",
    "        self.fc1 = nn.Linear(hidden_size + num_numeric_features, 64)\n",
    "        self.fc2 = nn.Linear(64, 5)\n",
    "\n",
    "    def forward(self, text, numeric):\n",
    "        embedded = self.embedding(text)\n",
    "        output, _ = self.rnn(embedded)\n",
    "        output = output[:, -1, :]  # Tomar solo la última salida de la secuencia\n",
    "        combined = torch.cat((output, numeric), dim=1)\n",
    "        output = self.fc1(combined)\n",
    "        output = self.relu(output)\n",
    "        output = self.fc2(output)\n",
    "        return output"
   ]
  },
  {
   "cell_type": "code",
   "execution_count": 381,
   "id": "762f593b",
   "metadata": {},
   "outputs": [],
   "source": [
    "# Parámetros del modelo\n",
    "input_size = 57\n",
    "hidden_size = 128\n",
    "num_layers = 1\n",
    "output_size = 1\n"
   ]
  },
  {
   "cell_type": "code",
   "execution_count": 363,
   "id": "9f06042b",
   "metadata": {},
   "outputs": [
    {
     "data": {
      "text/plain": [
       "10971"
      ]
     },
     "execution_count": 363,
     "metadata": {},
     "output_type": "execute_result"
    }
   ],
   "source": [
    "len(vocab)"
   ]
  },
  {
   "cell_type": "code",
   "execution_count": 383,
   "id": "fd482060",
   "metadata": {},
   "outputs": [
    {
     "name": "stdout",
     "output_type": "stream",
     "text": [
      "tensor([[-0.8272, -0.7467, -2.3205,  2.8773,  0.0962]],\n",
      "       grad_fn=<AddmmBackward0>)\n"
     ]
    }
   ],
   "source": [
    "import torch\n",
    "\n",
    "input_size = len(vocab)+1  # Tamaño del vocabulario\n",
    "embedding_dim = 30  # Dimensión del embedding\n",
    "hidden_size = 64  # Tamaño del estado oculto de la RNN\n",
    "num_layers = 2  # Número de capas de la RNN\n",
    "num_numeric_features = 6  # Número de características numéricas\n",
    "\n",
    "model = RNNModel(input_size, embedding_dim, hidden_size, num_layers, num_numeric_features)\n",
    "\n"
   ]
  },
  {
   "cell_type": "code",
   "execution_count": 384,
   "id": "d6347f77",
   "metadata": {},
   "outputs": [],
   "source": [
    "seq, num, targ =next(iter(train_loader))"
   ]
  },
  {
   "cell_type": "code",
   "execution_count": 385,
   "id": "30987831",
   "metadata": {},
   "outputs": [
    {
     "data": {
      "text/plain": [
       "torch.Size([64, 57])"
      ]
     },
     "execution_count": 385,
     "metadata": {},
     "output_type": "execute_result"
    }
   ],
   "source": [
    "seq.shape"
   ]
  },
  {
   "cell_type": "code",
   "execution_count": 386,
   "id": "c528e16d",
   "metadata": {},
   "outputs": [
    {
     "data": {
      "text/plain": [
       "torch.Size([1, 64, 57])"
      ]
     },
     "execution_count": 386,
     "metadata": {},
     "output_type": "execute_result"
    }
   ],
   "source": [
    "seq.unsqueeze(0).shape"
   ]
  },
  {
   "cell_type": "code",
   "execution_count": 387,
   "id": "98346dd2",
   "metadata": {},
   "outputs": [
    {
     "data": {
      "text/plain": [
       "5"
      ]
     },
     "execution_count": 387,
     "metadata": {},
     "output_type": "execute_result"
    }
   ],
   "source": [
    "len(train_data['Rating'].unique())"
   ]
  },
  {
   "cell_type": "code",
   "execution_count": 388,
   "id": "974d3a9b",
   "metadata": {},
   "outputs": [
    {
     "data": {
      "text/plain": [
       "torch.Size([64, 5])"
      ]
     },
     "execution_count": 388,
     "metadata": {},
     "output_type": "execute_result"
    }
   ],
   "source": [
    "model(seq, num).shape"
   ]
  },
  {
   "cell_type": "code",
   "execution_count": 389,
   "id": "098f998e",
   "metadata": {},
   "outputs": [],
   "source": [
    "# Definir la función de pérdida y el optimizador\n",
    "# Definir hiperparámetros\n",
    "learning_rate = 0.001\n",
    "epochs = 30\n",
    "criterion = nn.CrossEntropyLoss()\n",
    "optimizer = optim.Adam(model.parameters(), lr=learning_rate)\n",
    "#"
   ]
  },
  {
   "cell_type": "markdown",
   "id": "30b4eae4",
   "metadata": {},
   "source": [
    "# Función Training Básica"
   ]
  },
  {
   "cell_type": "code",
   "execution_count": 390,
   "id": "07f4f465",
   "metadata": {},
   "outputs": [],
   "source": [
    "def training(criterion, optimizer, model, train_loader, epochs):\n",
    "    model.train()\n",
    "    for epoch in range(epochs):\n",
    "        running_loss = 0.0\n",
    "\n",
    "        for i, data in enumerate(train_loader, 0):\n",
    "            # Get the inputs\n",
    "            sequence, numeric, target = data\n",
    "\n",
    "            # Zero the parameter gradients\n",
    "            optimizer.zero_grad()\n",
    "\n",
    "            # Forward pass\n",
    "            output = model(sequence, numeric)\n",
    "\n",
    "            # For classification\n",
    "            loss = criterion(output, target)\n",
    "            running_loss += loss.item()\n",
    "\n",
    "            loss.backward()\n",
    "\n",
    "            # Update the parameters\n",
    "            optimizer.step()\n",
    "\n",
    "        # Print the epoch loss\n",
    "        print(f\"Epoch {epoch + 1}, Loss: {running_loss / len(train_loader):.3f}\")"
   ]
  },
  {
   "cell_type": "code",
   "execution_count": 391,
   "id": "47b6f94c",
   "metadata": {},
   "outputs": [
    {
     "name": "stdout",
     "output_type": "stream",
     "text": [
      "Epoch 1, Loss: 1.230\n",
      "Epoch 2, Loss: 0.969\n",
      "Epoch 3, Loss: 0.851\n",
      "Epoch 4, Loss: 0.786\n",
      "Epoch 5, Loss: 0.744\n",
      "Epoch 6, Loss: 0.711\n",
      "Epoch 7, Loss: 0.682\n",
      "Epoch 8, Loss: 0.658\n",
      "Epoch 9, Loss: 0.634\n",
      "Epoch 10, Loss: 0.595\n",
      "Epoch 11, Loss: 0.561\n",
      "Epoch 12, Loss: 0.523\n",
      "Epoch 13, Loss: 0.479\n",
      "Epoch 14, Loss: 0.435\n",
      "Epoch 15, Loss: 0.385\n",
      "Epoch 16, Loss: 0.342\n",
      "Epoch 17, Loss: 0.306\n",
      "Epoch 18, Loss: 0.294\n",
      "Epoch 19, Loss: 0.284\n",
      "Epoch 20, Loss: 0.248\n",
      "Epoch 21, Loss: 0.202\n",
      "Epoch 22, Loss: 0.173\n",
      "Epoch 23, Loss: 0.142\n",
      "Epoch 24, Loss: 0.129\n",
      "Epoch 25, Loss: 0.104\n",
      "Epoch 26, Loss: 0.070\n",
      "Epoch 27, Loss: 0.053\n",
      "Epoch 28, Loss: 0.042\n",
      "Epoch 29, Loss: 0.036\n",
      "Epoch 30, Loss: 0.031\n"
     ]
    }
   ],
   "source": [
    "training(criterion,optimizer,model,train_loader, 30)"
   ]
  },
  {
   "cell_type": "code",
   "execution_count": 392,
   "id": "71c2ebd1",
   "metadata": {},
   "outputs": [],
   "source": [
    "from sklearn.metrics import accuracy_score, precision_score, recall_score, f1_score\n"
   ]
  },
  {
   "cell_type": "code",
   "execution_count": 393,
   "id": "f521d965",
   "metadata": {},
   "outputs": [],
   "source": [
    "import torch\n",
    "from sklearn.metrics import accuracy_score, precision_score, recall_score, f1_score\n",
    "\n",
    "def evaluate_model(model, criterion, dataloader):\n",
    "    model.eval()  # Cambiar al modo de evaluación\n",
    "    total_loss = 0.0\n",
    "    all_predictions = []\n",
    "    all_targets = []\n",
    "\n",
    "    with torch.no_grad():  # Desactivar el cálculo de gradientes\n",
    "        for text, numeric, target in dataloader:\n",
    "\n",
    "            # Forward pass\n",
    "            output = model(text, numeric)\n",
    "\n",
    "            # Calcular pérdida\n",
    "            loss = criterion(output, target)\n",
    "            total_loss += loss.item()\n",
    "\n",
    "            # Calcular predicciones\n",
    "            predictions = output.argmax(dim=1)\n",
    "\n",
    "            # Guardar predicciones y etiquetas verdaderas\n",
    "            all_predictions.extend(predictions.cpu().numpy())\n",
    "            all_targets.extend(target.cpu().numpy())\n",
    "\n",
    "\n",
    "\n",
    "    return total_loss / len(dataloader), all_predictions, all_targets"
   ]
  },
  {
   "cell_type": "code",
   "execution_count": 429,
   "id": "0e83572d",
   "metadata": {},
   "outputs": [],
   "source": [
    "val_loss, pred, targ =evaluate_model(model, criterion, test_loader)"
   ]
  },
  {
   "cell_type": "code",
   "execution_count": 430,
   "id": "566bfd90",
   "metadata": {},
   "outputs": [
    {
     "data": {
      "text/plain": [
       "[4, 4, 4, 3, 4]"
      ]
     },
     "execution_count": 430,
     "metadata": {},
     "output_type": "execute_result"
    }
   ],
   "source": [
    "pred[:5]\n"
   ]
  },
  {
   "cell_type": "code",
   "execution_count": 431,
   "id": "8cce1c2e",
   "metadata": {},
   "outputs": [
    {
     "data": {
      "text/plain": [
       "[3, 4, 4, 2, 4]"
      ]
     },
     "execution_count": 431,
     "metadata": {},
     "output_type": "execute_result"
    }
   ],
   "source": [
    "targ[:5]"
   ]
  },
  {
   "cell_type": "code",
   "execution_count": 432,
   "id": "d768b311",
   "metadata": {},
   "outputs": [
    {
     "data": {
      "text/plain": [
       "0.596236969234681"
      ]
     },
     "execution_count": 432,
     "metadata": {},
     "output_type": "execute_result"
    }
   ],
   "source": [
    "    # Calcular métricas\n",
    "accuracy = accuracy_score(targ, pred)\n",
    "accuracy"
   ]
  },
  {
   "cell_type": "markdown",
   "id": "66e59d55",
   "metadata": {},
   "source": [
    "# Función Training Profe"
   ]
  },
  {
   "cell_type": "code",
   "execution_count": 415,
   "id": "345cad79",
   "metadata": {},
   "outputs": [],
   "source": [
    "from torch.utils.data import DataLoader, Dataset, TensorDataset\n",
    "import random\n",
    "\n",
    "# Clase que agrupa la implementación de operaciones base para entrenamiento y validación\n",
    "# de nuestros modelos.\n",
    "# Implementación basada en la aportación de (Godoy, 2022).\n",
    "class Trainer(object):\n",
    "  def __init__(self, model, loss_fn, optimizer):\n",
    "    #Atributos de la clase (conocidos desde la creación de la instancia)\n",
    "    self.model = model\n",
    "    self.loss_fn = loss_fn\n",
    "    self.optimizer = optimizer\n",
    "    self.device = 'cuda' if torch.cuda.is_available() else 'cpu'\n",
    "    self.model.to(self.device)\n",
    "\n",
    "    #Atributos no inicializados (no se conocen en este momento)\n",
    "    self.train_loader = None\n",
    "    self.val_loader = None\n",
    "        \n",
    "    # Atributos calculados internamente\n",
    "    self.losses = []\n",
    "    self.val_losses = []\n",
    "    self.learning_rates = []\n",
    "    self.total_epochs = 0\n",
    "\n",
    "    #función para entrenamiento \n",
    "    self.train_step_fn = self._make_train_step_fn()\n",
    "        \n",
    "    #función para validación\n",
    "    self.val_step_fn = self._make_val_step_fn()\n",
    "\n",
    "  def set_loaders(self, train_loader, val_loader=None):\n",
    "    # Definamos qué loader utilizar. Idealmente train_loader y val_loader.\n",
    "    # para utilizarlos posteriormente\n",
    "    self.train_loader = train_loader\n",
    "    self.val_loader = val_loader\n",
    "\n",
    "    \n",
    "  def _make_train_step_fn(self):\n",
    "    def perform_train_step_fn(sequence, numeric_features, target):\n",
    "        self.model.train()\n",
    "        # Step 1 - Calcular las predicciones (forward)\n",
    "        output = self.model(sequence, numeric_features)\n",
    "        # Step 2 - Calcular el loss\n",
    "        loss = self.loss_fn(output, target)\n",
    "        # Step 3 - Calcular los gradientes\n",
    "        loss.backward()\n",
    "        # Step 4 - Actualizar los parámetros utilizando los gradientes y el learning_rate\n",
    "        self.optimizer.step()\n",
    "        self.optimizer.zero_grad()\n",
    "        # Retornar el loss\n",
    "        return loss.item()\n",
    "    return perform_train_step_fn\n",
    "\n",
    "\n",
    "\n",
    "  def _make_val_step_fn(self):\n",
    "    def perform_val_step_fn(sequence, numeric_features, target):\n",
    "            self.model.eval()\n",
    "            # Step 1 - Calculamos las predicciones (forward)\n",
    "            output = self.model(sequence, numeric_features)\n",
    "            # Step 2 - Calculamos el loss\n",
    "            loss = self.loss_fn(output, target)\n",
    "            # Retornamos el loss\n",
    "            return loss.item()\n",
    "    return perform_val_step_fn\n",
    "\n",
    "\n",
    "    \n",
    "  def _mini_batch(self, validation=False):\n",
    "    # Podemos utilizar mini-batch con el dataset de Validación o Entrenamiento \n",
    "    if validation:\n",
    "      data_loader = self.val_loader\n",
    "      step_fn = self.val_step_fn\n",
    "    else:\n",
    "      data_loader = self.train_loader\n",
    "      step_fn = self.train_step_fn\n",
    "\n",
    "    if data_loader is None:\n",
    "      return None\n",
    "            \n",
    "    n_batches = len(data_loader)\n",
    "    mini_batch_losses = []\n",
    "    for i, (sequence, numeric_features, target) in enumerate(data_loader):\n",
    "        sequence = sequence.to(self.device)\n",
    "        numeric_features = numeric_features.to(self.device)\n",
    "        target = target.to(self.device)\n",
    "\n",
    "        # Llama al step function apropiado (train_step_fn o val_step_fn)\n",
    "        mini_batch_loss = step_fn(sequence, numeric_features, target)\n",
    "        mini_batch_losses.append(mini_batch_loss)\n",
    "        \n",
    "    loss = np.mean(mini_batch_losses)\n",
    "    return loss\n",
    "\n",
    "  def set_seed(self, seed=42):\n",
    "    torch.backends.cudnn.deterministic = True\n",
    "    torch.backends.cudnn.benchmark = False    \n",
    "    torch.manual_seed(seed)\n",
    "    np.random.seed(seed)\n",
    "    random.seed(seed)\n",
    "    try:\n",
    "      self.train_loader.sampler.generator.manual_seed(seed)\n",
    "    except AttributeError:\n",
    "      pass\n",
    "\n",
    "  def train(self, n_epochs, seed=42):\n",
    "    # Si queremos asegurar la reproducibilidad\n",
    "    self.set_seed(seed)\n",
    "\n",
    "    for epoch in range(n_epochs):\n",
    "      # Mantengamos un registro de épocas\n",
    "      self.total_epochs += 1\n",
    "\n",
    "      # Realicemos el entrenamiento del modelo utilizando mini-batches\n",
    "      loss = self._mini_batch(validation=False)\n",
    "      self.losses.append(loss)\n",
    "\n",
    "      # En la validación únicamente nos interesa la predicción y el loss\n",
    "      with torch.no_grad():\n",
    "        # Realicemos la evaluación del modelo utilizando mini-batches\n",
    "        val_loss = self._mini_batch(validation=True)\n",
    "        self.val_losses.append(val_loss)\n",
    "\n",
    "  def set_seed(self, seed=42):\n",
    "    #Si nos interesan resultados reproducibles\n",
    "    torch.backends.cudnn.deterministic = True\n",
    "    torch.backends.cudnn.benchmark = False    \n",
    "    torch.manual_seed(seed)\n",
    "    np.random.seed(seed)\n",
    "    random.seed(seed)\n",
    "    try:\n",
    "      self.train_loader.sampler.generator.manual_seed(seed)\n",
    "    except AttributeError:\n",
    "      pass\n",
    "    \n",
    "  def plot_losses(self):\n",
    "    fig = plt.figure(figsize=(10, 4))\n",
    "    plt.plot(self.losses, label='Training Loss', c='b')\n",
    "    plt.plot(self.val_losses, label='Validation Loss', c='r')\n",
    "    plt.yscale('log')\n",
    "    plt.xlabel('Epochs')\n",
    "    plt.ylabel('Loss')\n",
    "    plt.legend()\n",
    "    plt.tight_layout()\n",
    "    return fig\n",
    "\n"
   ]
  },
  {
   "cell_type": "code",
   "execution_count": 416,
   "id": "6daa4875",
   "metadata": {},
   "outputs": [],
   "source": [
    "trainer = Trainer(model, criterion, optimizer)"
   ]
  },
  {
   "cell_type": "code",
   "execution_count": 417,
   "id": "85941521",
   "metadata": {},
   "outputs": [],
   "source": [
    "trainer.set_loaders(train_loader, val_loader)"
   ]
  },
  {
   "cell_type": "code",
   "execution_count": 418,
   "id": "4975b1c2",
   "metadata": {},
   "outputs": [],
   "source": [
    "trainer.train(30)"
   ]
  },
  {
   "cell_type": "code",
   "execution_count": 433,
   "id": "2cfcfb7a",
   "metadata": {},
   "outputs": [
    {
     "data": {
      "image/png": "[encoded data removed]",
      "text/plain": [
       "<Figure size 1000x400 with 1 Axes>"
      ]
     },
     "execution_count": 433,
     "metadata": {},
     "output_type": "execute_result"
    },
    {
     "data": {
      "image/png": "[encoded data removed]",
      "text/plain": [
       "<Figure size 1000x400 with 1 Axes>"
      ]
     },
     "metadata": {},
     "output_type": "display_data"
    }
   ],
   "source": [
    "import matplotlib.pyplot as plt\n",
    "trainer.plot_losses()"
   ]
  }
 ],
 "metadata": {
  "kernelspec": {
   "display_name": "Python 3 (ipykernel)",
   "language": "python",
   "name": "python3"
  },
  "language_info": {
   "codemirror_mode": {
    "name": "ipython",
    "version": 3
   },
   "file_extension": ".py",
   "mimetype": "text/x-python",
   "name": "python",
   "nbconvert_exporter": "python",
   "pygments_lexer": "ipython3",
   "version": "3.9.13"
  }
 },
 "nbformat": 4,
 "nbformat_minor": 5
}
