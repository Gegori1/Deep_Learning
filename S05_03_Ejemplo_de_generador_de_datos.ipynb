{
  "nbformat": 4,
  "nbformat_minor": 0,
  "metadata": {
    "colab": {
      "provenance": [],
      "gpuType": "T4"
    },
    "kernelspec": {
      "name": "python3",
      "display_name": "Python 3"
    },
    "language_info": {
      "name": "python"
    },
    "accelerator": "GPU"
  },
  "cells": [
    {
      "cell_type": "markdown",
      "source": [
        "## S05-03 Ejemplo de generador datos\n",
        "\n",
        "En este ejemplo sobre la creación de generadores de datos, se asume que se tiene una carpeta raíz en donde se encuentran organizadas imágenes en subcarpetas. Tal que cada subcarpeta corresponde a una clase. El ejemplo, se enfoca en mostrar como podemos crear un generador de datos para una red neuronal que tendrá como tarea una clasificaión multiclase.\n",
        "\n",
        "Entrada esperada por la red neuronal:\n",
        "- Imágenes en escala de grises\n",
        "\n",
        "Predicción esperado:\n",
        "- Clase a la que pertenece la imagen\n",
        "\n",
        "A continuación, puedes ver un ejemplo sobre:\n",
        "* Construcción de un generador de datos (imágenes), que incluye\n",
        "  * Redimensionar imágenes\n",
        "  * Aumento de datos\n",
        "  * Convertir imágenes a escala de grises\n",
        "\n",
        "* Visualizar imagen en escala de grises"
      ],
      "metadata": {
        "id": "8TRZFB4yUIAp"
      }
    },
    {
      "cell_type": "code",
      "source": [
        "import torch\n",
        "import torchvision\n",
        "import torchvision.transforms as transforms\n",
        "import numpy as np"
      ],
      "metadata": {
        "id": "dbaumMg7WR2Q"
      },
      "execution_count": null,
      "outputs": []
    },
    {
      "cell_type": "code",
      "source": [
        "def get_data_loader(data_dir, batch_size=4, train = True):\n",
        "    \"\"\"\n",
        "    Definamos la forma en la que construimos el bacth de datos, incluyendo aumento de datos para incrementar\n",
        "    el número de datos y retornemos el batch con el aumento de datos\n",
        "\n",
        "    Parámetros:\n",
        "    data_dir: root directory where the either train or test dataset is\n",
        "    batch_size: size of the batch\n",
        "    train: true si la fase actual es entrenamiento, y false en otro caso\n",
        "\n",
        "    Retorna:\n",
        "    data_loader    generador de dataset con el aumento de datos\n",
        "    \"\"\"\n",
        "\n",
        "    transform = {\n",
        "        'train': transforms.Compose([\n",
        "            transforms.Resize([28,28]),\n",
        "            transforms.RandomHorizontalFlip(),\n",
        "            transforms.Grayscale(num_output_channels=1),\n",
        "            transforms.ToTensor(),\n",
        "            transforms.Normalize(mean=0.5, std=0.5)\n",
        "        ]),\n",
        "        'test': transforms.Compose([\n",
        "            transforms.Resize([28,28]),\n",
        "            transforms.RandomHorizontalFlip(),\n",
        "            transforms.Grayscale(num_output_channels=1),\n",
        "            transforms.ToTensor(),\n",
        "            transforms.Normalize(mean=0.5, std=0.5)\n",
        "        ])\n",
        "    }\n",
        "    data = torchvision.datasets.ImageFolder(root=data_dir, transform=transform['train'] if train else transform['test'])\n",
        "    data_loader = torch.utils.data.DataLoader(dataset=data, batch_size=batch_size, shuffle=True, num_workers=1)\n",
        "    return data_loader"
      ],
      "metadata": {
        "id": "OoiR8bj3WUY9"
      },
      "execution_count": null,
      "outputs": []
    },
    {
      "cell_type": "code",
      "source": [
        "#Probemos el funcionamiento de nuestro generador de datos\n",
        "#torch.multiprocessing.freeze_support()\n",
        "images_path = '/content/drive/MyDrive/DL2024p/S05/images'\n",
        "data_loader = get_data_loader(images_path, 10, train = True)"
      ],
      "metadata": {
        "id": "FxL3zDk5W7mj"
      },
      "execution_count": null,
      "outputs": []
    },
    {
      "cell_type": "code",
      "source": [
        "for i in range(2):\n",
        "  batch_x, batch_y = next(iter(data_loader))\n",
        "  print(np.shape(batch_x), batch_y)"
      ],
      "metadata": {
        "colab": {
          "base_uri": "https://localhost:8080/"
        },
        "id": "QyKfIBX-aSMO",
        "outputId": "5175ac91-0d73-4e2d-f2a4-5002969d7b28"
      },
      "execution_count": null,
      "outputs": [
        {
          "output_type": "stream",
          "name": "stdout",
          "text": [
            "torch.Size([10, 1, 28, 28]) tensor([0, 0, 0, 1, 1, 2, 0, 2, 1, 0])\n",
            "torch.Size([10, 1, 28, 28]) tensor([1, 1, 0, 1, 2, 0, 0, 0, 0, 2])\n"
          ]
        }
      ]
    },
    {
      "cell_type": "code",
      "source": [
        "import matplotlib.pyplot as plt\n",
        "import numpy as np\n",
        "\n",
        "def show_image(tensor):\n",
        "  img=tensor.numpy()\n",
        "  img=np.squeeze(img, axis = 0)\n",
        "  plt.imshow(img, cmap='gray')\n",
        "\n",
        "tensor = batch_x[3]\n",
        "show_image(tensor)"
      ],
      "metadata": {
        "colab": {
          "base_uri": "https://localhost:8080/",
          "height": 430
        },
        "id": "BufCdUREb1ta",
        "outputId": "d2729ca5-7273-4966-869c-433b158e470b"
      },
      "execution_count": null,
      "outputs": [
        {
          "output_type": "display_data",
          "data": {
            "text/plain": [
              "<Figure size 640x480 with 1 Axes>"
            ],
            "image/png": "[encoded data removed]"
          },
          "metadata": {}
        }
      ]
    }
  ]
}