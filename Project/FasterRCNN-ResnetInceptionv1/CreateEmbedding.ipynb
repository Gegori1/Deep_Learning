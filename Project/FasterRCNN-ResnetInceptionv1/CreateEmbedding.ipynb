{
  "nbformat": 4,
  "nbformat_minor": 0,
  "metadata": {
    "colab": {
      "provenance": [],
      "machine_shape": "hm",
      "gpuType": "T4"
    },
    "kernelspec": {
      "name": "python3",
      "display_name": "Python 3"
    },
    "language_info": {
      "name": "python"
    },
    "accelerator": "GPU"
  },
  "cells": [
    {
      "cell_type": "code",
      "execution_count": null,
      "metadata": {
        "id": "XqeO4WUErez0"
      },
      "outputs": [],
      "source": [
        "! pip install facenet_pytorch"
      ]
    },
    {
      "cell_type": "markdown",
      "source": [
        "### Import data"
      ],
      "metadata": {
        "id": "FL_jvP43sLoA"
      }
    },
    {
      "cell_type": "code",
      "source": [
        "import os\n",
        "import numpy as np\n",
        "from facenet_pytorch import InceptionResnetV1\n",
        "import pickle"
      ],
      "metadata": {
        "id": "l7CoUTIhKRls"
      },
      "execution_count": null,
      "outputs": []
    },
    {
      "cell_type": "code",
      "source": [
        "root_dir = '/content/drive/MyDrive/Deep_learning_course/Project/'\n",
        "project_dir = os.path.join(root_dir, 'FastRCNN/')"
      ],
      "metadata": {
        "id": "u6zULXWgsoNv"
      },
      "execution_count": null,
      "outputs": []
    },
    {
      "cell_type": "code",
      "source": [
        "from google.colab import drive\n",
        "drive.mount('/content/drive')"
      ],
      "metadata": {
        "id": "8K2MgcYesnNG",
        "colab": {
          "base_uri": "https://localhost:8080/"
        },
        "outputId": "3a33154f-e0e8-43a5-ac15-aa601868d1d0"
      },
      "execution_count": null,
      "outputs": [
        {
          "output_type": "stream",
          "name": "stdout",
          "text": [
            "Mounted at /content/drive\n"
          ]
        }
      ]
    },
    {
      "cell_type": "code",
      "source": [
        "path_to_external_folder = os.path.join(root_dir, 'data/')\n",
        "path_to_zip_folder = os.path.join(path_to_external_folder, 'Archive_verification.zip')\n",
        "current_folder_path = '/content/localdata/'\n",
        "!unzip -q $path_to_zip_folder -d $current_folder_path"
      ],
      "metadata": {
        "id": "VG3QYVoksWJR"
      },
      "execution_count": null,
      "outputs": []
    },
    {
      "cell_type": "markdown",
      "source": [
        "### Load data"
      ],
      "metadata": {
        "id": "2FrZxDxnOmj6"
      }
    },
    {
      "cell_type": "code",
      "source": [
        "import torch\n",
        "from torch.utils.data import Dataset\n",
        "from torchvision.transforms import v2 as T"
      ],
      "metadata": {
        "id": "9lHQGeMjNTe4"
      },
      "execution_count": null,
      "outputs": []
    },
    {
      "cell_type": "code",
      "source": [
        "trnsf = T.Compose([\n",
        "              T.ToDtype(torch.float, scale=True),\n",
        "              T.ToPureTensor()\n",
        "          ])"
      ],
      "metadata": {
        "id": "N5OtIvxUM7Ao"
      },
      "execution_count": null,
      "outputs": []
    },
    {
      "cell_type": "code",
      "source": [
        "from torchvision.io import read_image\n",
        "class VerificationDataset(Dataset):\n",
        "  def __init__(self, root_dir, transform):\n",
        "    super().__init__()\n",
        "    self.root_dir = root_dir\n",
        "    self.transform = transform\n",
        "    self.images = os.listdir(root_dir)\n",
        "    self.path = [os.path.join(root_dir, image) for image in self.images]\n",
        "    self.labels = [image.split('/')[-1].split('_')[0] for image in self.images]\n",
        "\n",
        "  def __len__(self):\n",
        "    return len(self.images)\n",
        "\n",
        "  def __getitem__(self, idx):\n",
        "    image = read_image(self.path[idx])\n",
        "\n",
        "    if self.transform:\n",
        "      image = self.transform(image)\n",
        "\n",
        "    label = self.labels[idx]\n",
        "    return image, label"
      ],
      "metadata": {
        "id": "bk8pNG6mKE4l"
      },
      "execution_count": null,
      "outputs": []
    },
    {
      "cell_type": "code",
      "source": [
        "path_to_data = os.path.join(current_folder_path, \"Faces\", \"Faces/\")\n",
        "dataset = VerificationDataset(path_to_data, trnsf)"
      ],
      "metadata": {
        "id": "boY6CwrJLLjZ"
      },
      "execution_count": null,
      "outputs": []
    },
    {
      "cell_type": "code",
      "source": [
        "device = torch.device('cuda:0' if torch.cuda.is_available() else 'cpu')"
      ],
      "metadata": {
        "id": "VcJDBykfQGma"
      },
      "execution_count": null,
      "outputs": []
    },
    {
      "cell_type": "code",
      "source": [
        "dataloader = torch.utils.data.DataLoader(\n",
        "    dataset,\n",
        "    batch_size=150,\n",
        "    shuffle=True,\n",
        "    pin_memory=True,\n",
        "    pin_memory_device=device.type,\n",
        "    num_workers=8\n",
        ")"
      ],
      "metadata": {
        "id": "L0_jjt0FO9Qq"
      },
      "execution_count": null,
      "outputs": []
    },
    {
      "cell_type": "markdown",
      "source": [
        "### Get embeddings"
      ],
      "metadata": {
        "id": "m8OkWfUyOoZS"
      }
    },
    {
      "cell_type": "code",
      "source": [
        "resnet = InceptionResnetV1(pretrained='vggface2').to(device)"
      ],
      "metadata": {
        "id": "6-AMNInbOrlZ"
      },
      "execution_count": null,
      "outputs": []
    },
    {
      "cell_type": "code",
      "source": [
        "embeddings = []\n",
        "labels = []\n",
        "i = 0\n",
        "for image, label in dataloader:\n",
        "  i+=1\n",
        "  output = resnet(image.to(device))\n",
        "  embeddings.extend(output.cpu().detach().numpy())\n",
        "  labels.extend(label)\n",
        "  print(i)"
      ],
      "metadata": {
        "id": "OIqXz-jqLsVF"
      },
      "execution_count": null,
      "outputs": []
    },
    {
      "cell_type": "code",
      "source": [
        "embeddings_path = os.path.join(path_to_external_folder, 'embeddings.pkl')"
      ],
      "metadata": {
        "id": "GokuHo61RQtK"
      },
      "execution_count": null,
      "outputs": []
    },
    {
      "cell_type": "code",
      "source": [
        "vec_id = (embeddings, labels)"
      ],
      "metadata": {
        "id": "KRoV6h8LRVuq"
      },
      "execution_count": null,
      "outputs": []
    },
    {
      "cell_type": "code",
      "source": [
        "with open(embeddings_path, 'wb') as f:\n",
        "  pickle.dump(vec_id, f)"
      ],
      "metadata": {
        "id": "-3egLMgIR-VA"
      },
      "execution_count": null,
      "outputs": []
    }
  ]
}